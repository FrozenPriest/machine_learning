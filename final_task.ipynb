{
 "metadata": {
  "language_info": {
   "codemirror_mode": {
    "name": "ipython",
    "version": 3
   },
   "file_extension": ".py",
   "mimetype": "text/x-python",
   "name": "python",
   "nbconvert_exporter": "python",
   "pygments_lexer": "ipython3",
   "version": "2.7.16-final"
  },
  "orig_nbformat": 2,
  "kernelspec": {
   "name": "python3",
   "display_name": "Python 2.7.16 64-bit",
   "metadata": {
    "interpreter": {
     "hash": "ab50fcbab54f23a55b9476d713b765cbaf92544dbe1e5e1fdd9949eec55166bb"
    }
   }
  }
 },
 "nbformat": 4,
 "nbformat_minor": 2,
 "cells": [
  {
   "cell_type": "code",
   "execution_count": 3,
   "metadata": {},
   "outputs": [
    {
     "name": "stdout",
     "output_type": "stream",
     "text": [
      "1 trees\n",
      "Time elapsed: 0:00:03.417259\n",
      "Score: 0.5969238921229825\n",
      "10 trees\n",
      "Time elapsed: 0:00:31.190629\n",
      "Score: 0.6638609464607079\n",
      "20 trees\n",
      "Time elapsed: 0:01:02.390965\n",
      "Score: 0.6814986706295388\n",
      "30 trees\n",
      "Time elapsed: 0:01:33.184338\n",
      "Score: 0.6895748808207075\n"
     ]
    },
    {
     "data": {
      "text/plain": "<Figure size 432x288 with 1 Axes>",
      "image/png": "[encoded data removed]"
     },
     "metadata": {
      "needs_background": "light"
     },
     "output_type": "display_data"
    },
    {
     "name": "stdout",
     "output_type": "stream",
     "text": [
      "Max roc_auc score: 0.6895748808207075 N= 30\n"
     ]
    }
   ],
   "source": [
    "import pandas\n",
    "import time\n",
    "import datetime\n",
    "import matplotlib.pyplot as plt\n",
    "import sklearn.metrics as mtr\n",
    "import sklearn.model_selection as ms\n",
    "from sklearn.ensemble import GradientBoostingClassifier\n",
    "%matplotlib inline\n",
    "\n",
    "data_train = pandas.read_csv('features.csv', index_col = 'match_id')\n",
    "target_train = data_train['radiant_win']\n",
    "\n",
    "#признаки отсутствуют в тестовой выборке\n",
    "data_train.drop(['duration', 'radiant_win', 'tower_status_radiant', \n",
    "'tower_status_dire', 'barracks_status_radiant', 'barracks_status_dire'], inplace = True, axis = 1)\n",
    "\n",
    "#первая кровь, постановка вардов, покупка и апгрейд куры могут произойти после 5 минуты, отсюда пропуски\n",
    "#data.count()\n",
    "\n",
    "#заменяем пропуски на 0\n",
    "data_train.fillna(value = 0, inplace = True)\n",
    "\n",
    "#целевая переменная - radiant_win, так как мы предсказываем победу radiant\n",
    "\n",
    "kf = ms.KFold(n_splits = 5, shuffle = True)\n",
    "#N_list = [1, 10, 20, 30, 40, 60, 100, 200, 400]\n",
    "N_list = [1, 10, 20, 30]\n",
    "score_list = []\n",
    "\n",
    "for N_trees in N_list:\n",
    "    clf = GradientBoostingClassifier(n_estimators = N_trees)\n",
    "    print( N_trees, 'trees')\n",
    "    start_time = datetime.datetime.now()\n",
    "    \n",
    "    predictions = ms.cross_val_predict(estimator = clf, X = data_train, y = target_train, cv = kf, method = 'predict_proba')[:, 1]\n",
    "    score = mtr.roc_auc_score(target_train, predictions)\n",
    "    print( 'Time elapsed:', datetime.datetime.now() - start_time)\n",
    "    print ('Score:', score)\n",
    "    score_list.append(score)\n",
    "plt.figure()\n",
    "plt.plot(N_list, score_list)\n",
    "plt.show()\n",
    "\n",
    "print ('Max roc_auc score:', max(score_list), 'N=', N_list[score_list.index(max(score_list))])"
   ]
  },
  {
   "cell_type": "code",
   "execution_count": 4,
   "metadata": {},
   "outputs": [
    {
     "name": "stdout",
     "output_type": "stream",
     "text": [
      "N_heroes = 112\n"
     ]
    },
    {
     "ename": "AttributeError",
     "evalue": "'DataFrame' object has no attribute 'ix'",
     "output_type": "error",
     "traceback": [
      "\u001B[0;31m---------------------------------------------------------------------------\u001B[0m",
      "\u001B[0;31mAttributeError\u001B[0m                            Traceback (most recent call last)",
      "\u001B[0;32m/var/folders/nk/p4z_k0b933s4_c2vgvjmvw9r0000gn/T/ipykernel_24995/4250711888.py\u001B[0m in \u001B[0;36m<module>\u001B[0;34m\u001B[0m\n\u001B[1;32m     20\u001B[0m \u001B[0;32mfor\u001B[0m \u001B[0mi\u001B[0m\u001B[0;34m,\u001B[0m \u001B[0mmatch_id\u001B[0m \u001B[0;32min\u001B[0m \u001B[0menumerate\u001B[0m\u001B[0;34m(\u001B[0m\u001B[0mdata_train\u001B[0m\u001B[0;34m.\u001B[0m\u001B[0mindex\u001B[0m\u001B[0;34m)\u001B[0m\u001B[0;34m:\u001B[0m\u001B[0;34m\u001B[0m\u001B[0;34m\u001B[0m\u001B[0m\n\u001B[1;32m     21\u001B[0m     \u001B[0;32mfor\u001B[0m \u001B[0mp\u001B[0m \u001B[0;32min\u001B[0m \u001B[0mrange\u001B[0m\u001B[0;34m(\u001B[0m\u001B[0;36m5\u001B[0m\u001B[0;34m)\u001B[0m\u001B[0;34m:\u001B[0m\u001B[0;34m\u001B[0m\u001B[0;34m\u001B[0m\u001B[0m\n\u001B[0;32m---> 22\u001B[0;31m         \u001B[0mX_pick\u001B[0m\u001B[0;34m[\u001B[0m\u001B[0mi\u001B[0m\u001B[0;34m,\u001B[0m \u001B[0mdata_train\u001B[0m\u001B[0;34m.\u001B[0m\u001B[0mix\u001B[0m\u001B[0;34m[\u001B[0m\u001B[0mmatch_id\u001B[0m\u001B[0;34m,\u001B[0m \u001B[0;34m'r%d_hero'\u001B[0m \u001B[0;34m%\u001B[0m \u001B[0;34m(\u001B[0m\u001B[0mp\u001B[0m\u001B[0;34m+\u001B[0m\u001B[0;36m1\u001B[0m\u001B[0;34m)\u001B[0m\u001B[0;34m]\u001B[0m\u001B[0;34m-\u001B[0m\u001B[0;36m1\u001B[0m\u001B[0;34m]\u001B[0m \u001B[0;34m=\u001B[0m \u001B[0;36m1\u001B[0m\u001B[0;34m\u001B[0m\u001B[0;34m\u001B[0m\u001B[0m\n\u001B[0m\u001B[1;32m     23\u001B[0m         \u001B[0mX_pick\u001B[0m\u001B[0;34m[\u001B[0m\u001B[0mi\u001B[0m\u001B[0;34m,\u001B[0m \u001B[0mdata_train\u001B[0m\u001B[0;34m.\u001B[0m\u001B[0mix\u001B[0m\u001B[0;34m[\u001B[0m\u001B[0mmatch_id\u001B[0m\u001B[0;34m,\u001B[0m \u001B[0;34m'd%d_hero'\u001B[0m \u001B[0;34m%\u001B[0m \u001B[0;34m(\u001B[0m\u001B[0mp\u001B[0m\u001B[0;34m+\u001B[0m\u001B[0;36m1\u001B[0m\u001B[0;34m)\u001B[0m\u001B[0;34m]\u001B[0m\u001B[0;34m-\u001B[0m\u001B[0;36m1\u001B[0m\u001B[0;34m]\u001B[0m \u001B[0;34m=\u001B[0m \u001B[0;34m-\u001B[0m\u001B[0;36m1\u001B[0m\u001B[0;34m\u001B[0m\u001B[0;34m\u001B[0m\u001B[0m\n\u001B[1;32m     24\u001B[0m \u001B[0;31m#признаки отсутствуют в тестовой выборке\u001B[0m\u001B[0;34m\u001B[0m\u001B[0;34m\u001B[0m\u001B[0m\n",
      "\u001B[0;32m~/opt/anaconda3/lib/python3.9/site-packages/pandas/core/generic.py\u001B[0m in \u001B[0;36m__getattr__\u001B[0;34m(self, name)\u001B[0m\n\u001B[1;32m   5485\u001B[0m         ):\n\u001B[1;32m   5486\u001B[0m             \u001B[0;32mreturn\u001B[0m \u001B[0mself\u001B[0m\u001B[0;34m[\u001B[0m\u001B[0mname\u001B[0m\u001B[0;34m]\u001B[0m\u001B[0;34m\u001B[0m\u001B[0;34m\u001B[0m\u001B[0m\n\u001B[0;32m-> 5487\u001B[0;31m         \u001B[0;32mreturn\u001B[0m \u001B[0mobject\u001B[0m\u001B[0;34m.\u001B[0m\u001B[0m__getattribute__\u001B[0m\u001B[0;34m(\u001B[0m\u001B[0mself\u001B[0m\u001B[0;34m,\u001B[0m \u001B[0mname\u001B[0m\u001B[0;34m)\u001B[0m\u001B[0;34m\u001B[0m\u001B[0;34m\u001B[0m\u001B[0m\n\u001B[0m\u001B[1;32m   5488\u001B[0m \u001B[0;34m\u001B[0m\u001B[0m\n\u001B[1;32m   5489\u001B[0m     \u001B[0;32mdef\u001B[0m \u001B[0m__setattr__\u001B[0m\u001B[0;34m(\u001B[0m\u001B[0mself\u001B[0m\u001B[0;34m,\u001B[0m \u001B[0mname\u001B[0m\u001B[0;34m:\u001B[0m \u001B[0mstr\u001B[0m\u001B[0;34m,\u001B[0m \u001B[0mvalue\u001B[0m\u001B[0;34m)\u001B[0m \u001B[0;34m->\u001B[0m \u001B[0;32mNone\u001B[0m\u001B[0;34m:\u001B[0m\u001B[0;34m\u001B[0m\u001B[0;34m\u001B[0m\u001B[0m\n",
      "\u001B[0;31mAttributeError\u001B[0m: 'DataFrame' object has no attribute 'ix'"
     ]
    }
   ],
   "source": [
    "import pandas\n",
    "import numpy as np\n",
    "import time\n",
    "import datetime\n",
    "import matplotlib.pyplot as plt\n",
    "import sklearn.metrics as mtr\n",
    "import sklearn.model_selection as ms\n",
    "from sklearn.linear_model import LogisticRegression\n",
    "from sklearn.preprocessing import StandardScaler\n",
    "from scipy.sparse import hstack\n",
    "%matplotlib inline\n",
    "\n",
    "data_train = pandas.read_csv('features.csv', index_col = 'match_id')\n",
    "target_train = data_train['radiant_win']\n",
    "N_heroes = max(pandas.concat([data_train['r1_hero'], data_train['r2_hero'], data_train['r3_hero'], data_train['r4_hero'], data_train['r5_hero'],data_train['d1_hero'], data_train['d2_hero'], data_train['d3_hero'], data_train['d4_hero'], data_train['d5_hero']], ignore_index = True).unique())\n",
    "print ('N_heroes =', N_heroes)\n",
    "# N_heroes — количество различных героев в выборке\n",
    "X_pick = np.zeros((data_train.shape[0], N_heroes))\n",
    "\n",
    "for i, match_id in enumerate(data_train.index):\n",
    "    for p in range(5):\n",
    "        X_pick[i, data_train.ix[match_id, 'r%d_hero' % (p+1)]-1] = 1\n",
    "        X_pick[i, data_train.ix[match_id, 'd%d_hero' % (p+1)]-1] = -1\n",
    "#признаки отсутствуют в тестовой выборке\n",
    "data_train.drop(['duration', 'radiant_win', 'tower_status_radiant', \n",
    "'tower_status_dire', 'barracks_status_radiant', 'barracks_status_dire'], inplace = True, axis = 1)\n",
    "data_train.drop(['lobby_type', 'r1_hero', 'r2_hero', 'r3_hero', 'r4_hero', 'r5_hero',\n",
    "'d1_hero', 'd2_hero', 'd3_hero', 'd4_hero', 'd5_hero'], inplace = True, axis = 1)\n",
    "\n",
    "#первая кровь, постановка вардов, покупка и апгрейд куры могут произойти после 5 минуты, отсюда пропуски\n",
    "#data.count()\n",
    "\n",
    "#заменяем пропуски на 0\n",
    "data_train.fillna(value = 0, inplace = True)\n",
    "\n",
    "#целевая переменная - radiant_win, так как мы предсказываем победу radiant\n",
    "data_train = np.hstack([data_train, X_pick])\n",
    "scaler = StandardScaler()\n",
    "data_train = scaler.fit_transform(data_train)\n",
    "\n",
    "kf = ms.KFold(n_splits = 5, shuffle = True)\n",
    "C_list = range(-6, 8)\n",
    "score_list = []\n",
    "\n",
    "for i in C_list:\n",
    "    C = 10.0 ** i\n",
    "    clf = LogisticRegression(C = C, max_iter = 10000)\n",
    "    print ('C =', C)\n",
    "    start_time = datetime.datetime.now()\n",
    "\n",
    "    predictions = ms.cross_val_predict(estimator = clf, X = data_train, y = target_train, cv = kf, method = 'predict_proba')[:, 1]\n",
    "    score = mtr.roc_auc_score(target_train, predictions)\n",
    "    print ('Time elapsed:', datetime.datetime.now() - start_time)\n",
    "    print ('Score:', score)\n",
    "    score_list.append(score)\n",
    "plt.figure()\n",
    "plt.plot(C_list, score_list)\n",
    "plt.show()\n",
    "\n",
    "print ('Max roc_auc score:', max(score_list), 'C=', 10.0 ** C_list[score_list.index(max(score_list))])"
   ]
  },
  {
   "cell_type": "code",
   "execution_count": null,
   "metadata": {},
   "outputs": [],
   "source": [
    "import pandas\n",
    "import numpy as np\n",
    "import time\n",
    "import datetime\n",
    "import matplotlib.pyplot as plt\n",
    "import sklearn.metrics as mtr\n",
    "import sklearn.model_selection as ms\n",
    "from sklearn.linear_model import LogisticRegression\n",
    "from sklearn.preprocessing import StandardScaler\n",
    "from scipy.sparse import hstack\n",
    "%matplotlib inline\n",
    "\n",
    "data_train = pandas.read_csv('features.csv', index_col = 'match_id')\n",
    "data_test = pandas.read_csv('features_test.csv', index_col = 'match_id')\n",
    "target_train = data_train['radiant_win']\n",
    "N_heroes = max(pandas.concat([data_train['r1_hero'], data_train['r2_hero'], data_train['r3_hero'], data_train['r4_hero'], data_train['r5_hero'],data_train['d1_hero'], data_train['d2_hero'], data_train['d3_hero'], data_train['d4_hero'], data_train['d5_hero']], ignore_index = True).unique())\n",
    "print( 'N_heroes =', N_heroes)\n",
    "# N_heroes — количество различных героев в выборке\n",
    "X_pick = np.zeros((data_train.shape[0], N_heroes))\n",
    "\n",
    "for i, match_id in enumerate(data_train.index):\n",
    "    for p in range(5):\n",
    "        X_pick[i, data_train.ix[match_id, 'r%d_hero' % (p+1)]-1] = 1\n",
    "        X_pick[i, data_train.ix[match_id, 'd%d_hero' % (p+1)]-1] = -1\n",
    "\n",
    "X_pick_test = np.zeros((data_test.shape[0], N_heroes))\n",
    "\n",
    "for i, match_id in enumerate(data_test.index):\n",
    "    for p in range(5):\n",
    "        X_pick_test[i, data_test.ix[match_id, 'r%d_hero' % (p+1)]-1] = 1\n",
    "        X_pick_test[i, data_test.ix[match_id, 'd%d_hero' % (p+1)]-1] = -1\n",
    "#признаки отсутствуют в тестовой выборке\n",
    "data_train.drop(['duration', 'radiant_win', 'tower_status_radiant', \n",
    "'tower_status_dire', 'barracks_status_radiant', 'barracks_status_dire'], inplace = True, axis = 1)\n",
    "data_train.drop(['lobby_type', 'r1_hero', 'r2_hero', 'r3_hero', 'r4_hero', 'r5_hero',\n",
    "'d1_hero', 'd2_hero', 'd3_hero', 'd4_hero', 'd5_hero'], inplace = True, axis = 1)\n",
    "data_test.drop(['lobby_type', 'r1_hero', 'r2_hero', 'r3_hero', 'r4_hero', 'r5_hero',\n",
    "'d1_hero', 'd2_hero', 'd3_hero', 'd4_hero', 'd5_hero'], inplace = True, axis = 1)\n",
    "#первая кровь, постановка вардов, покупка и апгрейд куры могут произойти после 5 минуты, отсюда пропуски\n",
    "#data.count()\n",
    "\n",
    "#заменяем пропуски на 0\n",
    "data_train.fillna(value = 0, inplace = True)\n",
    "data_test.fillna(value = 0, inplace = True)\n",
    "\n",
    "#целевая переменная - radiant_win, так как мы предсказываем победу radiant\n",
    "data_train = np.hstack([data_train, X_pick])\n",
    "data_test = np.hstack([data_test, X_pick_test])\n",
    "scaler = StandardScaler()\n",
    "data_train = scaler.fit_transform(data_train)\n",
    "data_test = scaler.transform(data_test)\n",
    "\n",
    "#C = 10000, roc_auc_score = 0.75 \n",
    "clf = LogisticRegression(C = 10000, max_iter = 10000)\n",
    "clf.fit(data_train, target_train)\n",
    "predictions = clf.predict_proba(data_test)[:, 1]\n",
    "plt.figure()\n",
    "plt.plot(predictions)\n",
    "plt.show()\n",
    "print( max(predictions), min(predictions))"
   ]
  },
  {
   "cell_type": "code",
   "execution_count": null,
   "metadata": {},
   "outputs": [],
   "source": []
  }
 ]
}